{
  "nbformat": 4,
  "nbformat_minor": 0,
  "metadata": {
    "colab": {
      "provenance": []
    },
    "kernelspec": {
      "name": "python3",
      "display_name": "Python 3"
    },
    "language_info": {
      "name": "python"
    },
    "widgets": {
      "application/vnd.jupyter.widget-state+json": {
        "decbc87632fa4809b60ca15fdb186964": {
          "model_module": "@jupyter-widgets/controls",
          "model_name": "HBoxModel",
          "model_module_version": "1.5.0",
          "state": {
            "_dom_classes": [],
            "_model_module": "@jupyter-widgets/controls",
            "_model_module_version": "1.5.0",
            "_model_name": "HBoxModel",
            "_view_count": null,
            "_view_module": "@jupyter-widgets/controls",
            "_view_module_version": "1.5.0",
            "_view_name": "HBoxView",
            "box_style": "",
            "children": [
              "IPY_MODEL_badd2a2d53964dc1bff0906f8e02e578",
              "IPY_MODEL_c86569d7f40f44d583573b31ff66bce3",
              "IPY_MODEL_d89212123ab14172a0f051831ad07efb"
            ],
            "layout": "IPY_MODEL_6f99ac1e45684182af73ff9501a9922e"
          }
        },
        "badd2a2d53964dc1bff0906f8e02e578": {
          "model_module": "@jupyter-widgets/controls",
          "model_name": "HTMLModel",
          "model_module_version": "1.5.0",
          "state": {
            "_dom_classes": [],
            "_model_module": "@jupyter-widgets/controls",
            "_model_module_version": "1.5.0",
            "_model_name": "HTMLModel",
            "_view_count": null,
            "_view_module": "@jupyter-widgets/controls",
            "_view_module_version": "1.5.0",
            "_view_name": "HTMLView",
            "description": "",
            "description_tooltip": null,
            "layout": "IPY_MODEL_f2d3e4b9a6f64e76be39f86dfc5681f5",
            "placeholder": "​",
            "style": "IPY_MODEL_860fd24ca6444bc98f63031afd27bacf",
            "value": " 99%"
          }
        },
        "c86569d7f40f44d583573b31ff66bce3": {
          "model_module": "@jupyter-widgets/controls",
          "model_name": "FloatProgressModel",
          "model_module_version": "1.5.0",
          "state": {
            "_dom_classes": [],
            "_model_module": "@jupyter-widgets/controls",
            "_model_module_version": "1.5.0",
            "_model_name": "FloatProgressModel",
            "_view_count": null,
            "_view_module": "@jupyter-widgets/controls",
            "_view_module_version": "1.5.0",
            "_view_name": "ProgressView",
            "bar_style": "danger",
            "description": "",
            "description_tooltip": null,
            "layout": "IPY_MODEL_b72723c5010d4909921e36f96b5e0155",
            "max": 114,
            "min": 0,
            "orientation": "horizontal",
            "style": "IPY_MODEL_c86a98a85cf44bf797e0c6152e86ac0c",
            "value": 113
          }
        },
        "d89212123ab14172a0f051831ad07efb": {
          "model_module": "@jupyter-widgets/controls",
          "model_name": "HTMLModel",
          "model_module_version": "1.5.0",
          "state": {
            "_dom_classes": [],
            "_model_module": "@jupyter-widgets/controls",
            "_model_module_version": "1.5.0",
            "_model_name": "HTMLModel",
            "_view_count": null,
            "_view_module": "@jupyter-widgets/controls",
            "_view_module_version": "1.5.0",
            "_view_name": "HTMLView",
            "description": "",
            "description_tooltip": null,
            "layout": "IPY_MODEL_9d0c488805c448c68925960ed80dcfe6",
            "placeholder": "​",
            "style": "IPY_MODEL_ebab4e579b58487ba7e4fadfc0310dcd",
            "value": " 113/114 [05:18&lt;00:02,  2.79s/it]"
          }
        },
        "6f99ac1e45684182af73ff9501a9922e": {
          "model_module": "@jupyter-widgets/base",
          "model_name": "LayoutModel",
          "model_module_version": "1.2.0",
          "state": {
            "_model_module": "@jupyter-widgets/base",
            "_model_module_version": "1.2.0",
            "_model_name": "LayoutModel",
            "_view_count": null,
            "_view_module": "@jupyter-widgets/base",
            "_view_module_version": "1.2.0",
            "_view_name": "LayoutView",
            "align_content": null,
            "align_items": null,
            "align_self": null,
            "border": null,
            "bottom": null,
            "display": null,
            "flex": null,
            "flex_flow": null,
            "grid_area": null,
            "grid_auto_columns": null,
            "grid_auto_flow": null,
            "grid_auto_rows": null,
            "grid_column": null,
            "grid_gap": null,
            "grid_row": null,
            "grid_template_areas": null,
            "grid_template_columns": null,
            "grid_template_rows": null,
            "height": null,
            "justify_content": null,
            "justify_items": null,
            "left": null,
            "margin": null,
            "max_height": null,
            "max_width": null,
            "min_height": null,
            "min_width": null,
            "object_fit": null,
            "object_position": null,
            "order": null,
            "overflow": null,
            "overflow_x": null,
            "overflow_y": null,
            "padding": null,
            "right": null,
            "top": null,
            "visibility": null,
            "width": null
          }
        },
        "f2d3e4b9a6f64e76be39f86dfc5681f5": {
          "model_module": "@jupyter-widgets/base",
          "model_name": "LayoutModel",
          "model_module_version": "1.2.0",
          "state": {
            "_model_module": "@jupyter-widgets/base",
            "_model_module_version": "1.2.0",
            "_model_name": "LayoutModel",
            "_view_count": null,
            "_view_module": "@jupyter-widgets/base",
            "_view_module_version": "1.2.0",
            "_view_name": "LayoutView",
            "align_content": null,
            "align_items": null,
            "align_self": null,
            "border": null,
            "bottom": null,
            "display": null,
            "flex": null,
            "flex_flow": null,
            "grid_area": null,
            "grid_auto_columns": null,
            "grid_auto_flow": null,
            "grid_auto_rows": null,
            "grid_column": null,
            "grid_gap": null,
            "grid_row": null,
            "grid_template_areas": null,
            "grid_template_columns": null,
            "grid_template_rows": null,
            "height": null,
            "justify_content": null,
            "justify_items": null,
            "left": null,
            "margin": null,
            "max_height": null,
            "max_width": null,
            "min_height": null,
            "min_width": null,
            "object_fit": null,
            "object_position": null,
            "order": null,
            "overflow": null,
            "overflow_x": null,
            "overflow_y": null,
            "padding": null,
            "right": null,
            "top": null,
            "visibility": null,
            "width": null
          }
        },
        "860fd24ca6444bc98f63031afd27bacf": {
          "model_module": "@jupyter-widgets/controls",
          "model_name": "DescriptionStyleModel",
          "model_module_version": "1.5.0",
          "state": {
            "_model_module": "@jupyter-widgets/controls",
            "_model_module_version": "1.5.0",
            "_model_name": "DescriptionStyleModel",
            "_view_count": null,
            "_view_module": "@jupyter-widgets/base",
            "_view_module_version": "1.2.0",
            "_view_name": "StyleView",
            "description_width": ""
          }
        },
        "b72723c5010d4909921e36f96b5e0155": {
          "model_module": "@jupyter-widgets/base",
          "model_name": "LayoutModel",
          "model_module_version": "1.2.0",
          "state": {
            "_model_module": "@jupyter-widgets/base",
            "_model_module_version": "1.2.0",
            "_model_name": "LayoutModel",
            "_view_count": null,
            "_view_module": "@jupyter-widgets/base",
            "_view_module_version": "1.2.0",
            "_view_name": "LayoutView",
            "align_content": null,
            "align_items": null,
            "align_self": null,
            "border": null,
            "bottom": null,
            "display": null,
            "flex": null,
            "flex_flow": null,
            "grid_area": null,
            "grid_auto_columns": null,
            "grid_auto_flow": null,
            "grid_auto_rows": null,
            "grid_column": null,
            "grid_gap": null,
            "grid_row": null,
            "grid_template_areas": null,
            "grid_template_columns": null,
            "grid_template_rows": null,
            "height": null,
            "justify_content": null,
            "justify_items": null,
            "left": null,
            "margin": null,
            "max_height": null,
            "max_width": null,
            "min_height": null,
            "min_width": null,
            "object_fit": null,
            "object_position": null,
            "order": null,
            "overflow": null,
            "overflow_x": null,
            "overflow_y": null,
            "padding": null,
            "right": null,
            "top": null,
            "visibility": null,
            "width": null
          }
        },
        "c86a98a85cf44bf797e0c6152e86ac0c": {
          "model_module": "@jupyter-widgets/controls",
          "model_name": "ProgressStyleModel",
          "model_module_version": "1.5.0",
          "state": {
            "_model_module": "@jupyter-widgets/controls",
            "_model_module_version": "1.5.0",
            "_model_name": "ProgressStyleModel",
            "_view_count": null,
            "_view_module": "@jupyter-widgets/base",
            "_view_module_version": "1.2.0",
            "_view_name": "StyleView",
            "bar_color": null,
            "description_width": ""
          }
        },
        "9d0c488805c448c68925960ed80dcfe6": {
          "model_module": "@jupyter-widgets/base",
          "model_name": "LayoutModel",
          "model_module_version": "1.2.0",
          "state": {
            "_model_module": "@jupyter-widgets/base",
            "_model_module_version": "1.2.0",
            "_model_name": "LayoutModel",
            "_view_count": null,
            "_view_module": "@jupyter-widgets/base",
            "_view_module_version": "1.2.0",
            "_view_name": "LayoutView",
            "align_content": null,
            "align_items": null,
            "align_self": null,
            "border": null,
            "bottom": null,
            "display": null,
            "flex": null,
            "flex_flow": null,
            "grid_area": null,
            "grid_auto_columns": null,
            "grid_auto_flow": null,
            "grid_auto_rows": null,
            "grid_column": null,
            "grid_gap": null,
            "grid_row": null,
            "grid_template_areas": null,
            "grid_template_columns": null,
            "grid_template_rows": null,
            "height": null,
            "justify_content": null,
            "justify_items": null,
            "left": null,
            "margin": null,
            "max_height": null,
            "max_width": null,
            "min_height": null,
            "min_width": null,
            "object_fit": null,
            "object_position": null,
            "order": null,
            "overflow": null,
            "overflow_x": null,
            "overflow_y": null,
            "padding": null,
            "right": null,
            "top": null,
            "visibility": null,
            "width": null
          }
        },
        "ebab4e579b58487ba7e4fadfc0310dcd": {
          "model_module": "@jupyter-widgets/controls",
          "model_name": "DescriptionStyleModel",
          "model_module_version": "1.5.0",
          "state": {
            "_model_module": "@jupyter-widgets/controls",
            "_model_module_version": "1.5.0",
            "_model_name": "DescriptionStyleModel",
            "_view_count": null,
            "_view_module": "@jupyter-widgets/base",
            "_view_module_version": "1.2.0",
            "_view_name": "StyleView",
            "description_width": ""
          }
        }
      }
    },
    "accelerator": "GPU"
  },
  "cells": [
    {
      "cell_type": "markdown",
      "metadata": {
        "id": "bHkFRfpQw8ae"
      },
      "source": [
        "## Librerías\n",
        "\n"
      ]
    },
    {
      "cell_type": "code",
      "metadata": {
        "id": "ektdnP3mpX2_"
      },
      "source": [
        "from bs4 import BeautifulSoup\n",
        "import requests\n",
        "import matplotlib\n",
        "import re\n",
        "from tqdm.notebook import tnrange #vamos a trackear el progreso\n",
        "import pandas as pd"
      ],
      "execution_count": 11,
      "outputs": []
    },
    {
      "cell_type": "markdown",
      "metadata": {
        "id": "qkkTrLQ6xDr7"
      },
      "source": [
        "## Recopilando información de la web\n"
      ]
    },
    {
      "cell_type": "code",
      "metadata": {
        "colab": {
          "base_uri": "https://localhost:8080/"
        },
        "id": "A9GCviOdpbFQ",
        "outputId": "8163ba8a-86ff-4f8b-9ae5-be1bf24de4b8"
      },
      "source": [
        "def get_all_links(url):\n",
        "    '''Obtención de todos los Links'''\n",
        "\n",
        "    headers = {'User-Agent': 'Mozilla/5.0'}\n",
        "    r = requests.get(url, headers=headers)\n",
        "    print(r)\n",
        "    soup = BeautifulSoup(r.text, 'html.parser')\n",
        "    search = soup.find_all('div', class_='timebucket u-inlineBlock u-width50')\n",
        "    years = []\n",
        "    for h in search:\n",
        "        print(f\"esto es la h del primer for {h}\")\n",
        "        years.append(h.a.get('href'))\n",
        "    print(\"Total de años en:  \"  + str(len(years)))\n",
        "\n",
        "    # Ahora los meses\n",
        "    years_months = []\n",
        "    years_no_months = [] #para los años que no tienen meses\n",
        "    for year in years:\n",
        "        y_soup = BeautifulSoup(requests.get(year, headers=headers).text, 'html.parser')\n",
        "        search_month = y_soup.find_all('div', class_='timebucket u-inlineBlock u-width80')\n",
        "        months = []\n",
        "        if search_month:\n",
        "            for month in search_month:\n",
        "                try:\n",
        "                    months.append(month.a.get('href'))\n",
        "                except:\n",
        "                    pass\n",
        "            years_months.append(months)\n",
        "        else:\n",
        "            years_no_months.append(year)\n",
        "    years_months = [item for sublist in years_months for item in sublist]\n",
        "    print(\"Total de años con meses \"  + str(len(years_months)))\n",
        "    print(\"Total de años sin meses \"  + str(len(years_no_months)))\n",
        "    # a por los días\n",
        "    all_links = []\n",
        "    all_links_no_days = [] #Para los meses que no tengan días\n",
        "    for month_url in years_months:\n",
        "        print(month_url)\n",
        "        m_soup = BeautifulSoup(requests.get(month_url).text, 'html.parser')\n",
        "        all_days = m_soup.find_all('div', class_='timebucket u-inlineBlock u-width35')\n",
        "        days = []\n",
        "        if all_days:\n",
        "            for day in all_days:\n",
        "                try:\n",
        "                    days.append(day.a.get('href'))\n",
        "                except:\n",
        "                    pass\n",
        "            all_links.append(days)\n",
        "        else:\n",
        "            all_links_no_days.append(month_url)\n",
        "    all_links = [item for sublist in all_links for item in sublist]\n",
        "    final_links = years_no_months+all_links_no_days+all_links\n",
        "    return final_links\n",
        "towards_ai_links = get_all_links('https://towardsdatascience.com/archive')\n"
      ],
      "execution_count": 20,
      "outputs": [
        {
          "output_type": "stream",
          "name": "stdout",
          "text": [
            "<Response [200]>\n",
            "esto es la h del primer for <div class=\"timebucket u-inlineBlock u-width50\"><a href=\"https://towardsdatascience.com/archive/2010\">2010</a></div>\n",
            "esto es la h del primer for <div class=\"timebucket u-inlineBlock u-width50\"><a href=\"https://towardsdatascience.com/archive/2011\">2011</a></div>\n",
            "esto es la h del primer for <div class=\"timebucket u-inlineBlock u-width50\"><a href=\"https://towardsdatascience.com/archive/2013\">2013</a></div>\n",
            "esto es la h del primer for <div class=\"timebucket u-inlineBlock u-width50\"><a href=\"https://towardsdatascience.com/archive/2014\">2014</a></div>\n",
            "esto es la h del primer for <div class=\"timebucket u-inlineBlock u-width50\"><a href=\"https://towardsdatascience.com/archive/2015\">2015</a></div>\n",
            "esto es la h del primer for <div class=\"timebucket u-inlineBlock u-width50\"><a href=\"https://towardsdatascience.com/archive/2016\">2016</a></div>\n",
            "esto es la h del primer for <div class=\"timebucket u-inlineBlock u-width50\"><a href=\"https://towardsdatascience.com/archive/2017\">2017</a></div>\n",
            "esto es la h del primer for <div class=\"timebucket u-inlineBlock u-width50\"><a href=\"https://towardsdatascience.com/archive/2018\">2018</a></div>\n",
            "esto es la h del primer for <div class=\"timebucket u-inlineBlock u-width50\"><a href=\"https://towardsdatascience.com/archive/2019\">2019</a></div>\n",
            "esto es la h del primer for <div class=\"timebucket u-inlineBlock u-width50\"><a href=\"https://towardsdatascience.com/archive/2020\">2020</a></div>\n",
            "esto es la h del primer for <div class=\"timebucket u-inlineBlock u-width50\"><a href=\"https://towardsdatascience.com/archive/2021\">2021</a></div>\n",
            "esto es la h del primer for <div class=\"timebucket u-inlineBlock u-width50\"><a href=\"https://towardsdatascience.com/archive/2022\">2022</a></div>\n",
            "esto es la h del primer for <div class=\"timebucket u-inlineBlock u-width50\"><a href=\"https://towardsdatascience.com/archive/2023\">2023</a></div>\n",
            "esto es la h del primer for <div class=\"timebucket u-inlineBlock u-width50\"><a href=\"https://towardsdatascience.com/archive/2024\">2024</a></div>\n",
            "Total de años en:  14\n",
            "Total de años con meses 110\n",
            "Total de años sin meses 4\n",
            "https://towardsdatascience.com/archive/2015/03\n",
            "https://towardsdatascience.com/archive/2015/04\n",
            "https://towardsdatascience.com/archive/2015/05\n",
            "https://towardsdatascience.com/archive/2015/06\n",
            "https://towardsdatascience.com/archive/2015/07\n",
            "https://towardsdatascience.com/archive/2015/08\n",
            "https://towardsdatascience.com/archive/2015/09\n",
            "https://towardsdatascience.com/archive/2015/10\n",
            "https://towardsdatascience.com/archive/2015/11\n",
            "https://towardsdatascience.com/archive/2015/12\n",
            "https://towardsdatascience.com/archive/2016/02\n",
            "https://towardsdatascience.com/archive/2016/03\n",
            "https://towardsdatascience.com/archive/2016/04\n",
            "https://towardsdatascience.com/archive/2016/05\n",
            "https://towardsdatascience.com/archive/2016/06\n",
            "https://towardsdatascience.com/archive/2016/07\n",
            "https://towardsdatascience.com/archive/2016/08\n",
            "https://towardsdatascience.com/archive/2016/09\n",
            "https://towardsdatascience.com/archive/2016/10\n",
            "https://towardsdatascience.com/archive/2016/11\n",
            "https://towardsdatascience.com/archive/2016/12\n",
            "https://towardsdatascience.com/archive/2017/01\n",
            "https://towardsdatascience.com/archive/2017/02\n",
            "https://towardsdatascience.com/archive/2017/03\n",
            "https://towardsdatascience.com/archive/2017/04\n",
            "https://towardsdatascience.com/archive/2017/05\n",
            "https://towardsdatascience.com/archive/2017/06\n",
            "https://towardsdatascience.com/archive/2017/07\n",
            "https://towardsdatascience.com/archive/2017/08\n",
            "https://towardsdatascience.com/archive/2017/09\n",
            "https://towardsdatascience.com/archive/2017/10\n",
            "https://towardsdatascience.com/archive/2017/11\n",
            "https://towardsdatascience.com/archive/2017/12\n",
            "https://towardsdatascience.com/archive/2018/01\n",
            "https://towardsdatascience.com/archive/2018/02\n",
            "https://towardsdatascience.com/archive/2018/03\n",
            "https://towardsdatascience.com/archive/2018/04\n",
            "https://towardsdatascience.com/archive/2018/05\n",
            "https://towardsdatascience.com/archive/2018/06\n",
            "https://towardsdatascience.com/archive/2018/07\n",
            "https://towardsdatascience.com/archive/2018/08\n",
            "https://towardsdatascience.com/archive/2018/09\n",
            "https://towardsdatascience.com/archive/2018/10\n",
            "https://towardsdatascience.com/archive/2018/11\n",
            "https://towardsdatascience.com/archive/2018/12\n",
            "https://towardsdatascience.com/archive/2019/01\n",
            "https://towardsdatascience.com/archive/2019/02\n",
            "https://towardsdatascience.com/archive/2019/03\n",
            "https://towardsdatascience.com/archive/2019/04\n",
            "https://towardsdatascience.com/archive/2019/05\n",
            "https://towardsdatascience.com/archive/2019/06\n",
            "https://towardsdatascience.com/archive/2019/07\n",
            "https://towardsdatascience.com/archive/2019/08\n",
            "https://towardsdatascience.com/archive/2019/09\n",
            "https://towardsdatascience.com/archive/2019/10\n",
            "https://towardsdatascience.com/archive/2019/11\n",
            "https://towardsdatascience.com/archive/2019/12\n",
            "https://towardsdatascience.com/archive/2020/01\n",
            "https://towardsdatascience.com/archive/2020/02\n",
            "https://towardsdatascience.com/archive/2020/03\n",
            "https://towardsdatascience.com/archive/2020/04\n",
            "https://towardsdatascience.com/archive/2020/05\n",
            "https://towardsdatascience.com/archive/2020/06\n",
            "https://towardsdatascience.com/archive/2020/07\n",
            "https://towardsdatascience.com/archive/2020/08\n",
            "https://towardsdatascience.com/archive/2020/09\n",
            "https://towardsdatascience.com/archive/2020/10\n",
            "https://towardsdatascience.com/archive/2020/11\n",
            "https://towardsdatascience.com/archive/2020/12\n",
            "https://towardsdatascience.com/archive/2021/01\n",
            "https://towardsdatascience.com/archive/2021/02\n",
            "https://towardsdatascience.com/archive/2021/03\n",
            "https://towardsdatascience.com/archive/2021/04\n",
            "https://towardsdatascience.com/archive/2021/05\n",
            "https://towardsdatascience.com/archive/2021/06\n",
            "https://towardsdatascience.com/archive/2021/07\n",
            "https://towardsdatascience.com/archive/2021/08\n",
            "https://towardsdatascience.com/archive/2021/09\n",
            "https://towardsdatascience.com/archive/2021/10\n",
            "https://towardsdatascience.com/archive/2021/11\n",
            "https://towardsdatascience.com/archive/2021/12\n",
            "https://towardsdatascience.com/archive/2022/01\n",
            "https://towardsdatascience.com/archive/2022/02\n",
            "https://towardsdatascience.com/archive/2022/03\n",
            "https://towardsdatascience.com/archive/2022/04\n",
            "https://towardsdatascience.com/archive/2022/05\n",
            "https://towardsdatascience.com/archive/2022/06\n",
            "https://towardsdatascience.com/archive/2022/07\n",
            "https://towardsdatascience.com/archive/2022/08\n",
            "https://towardsdatascience.com/archive/2022/09\n",
            "https://towardsdatascience.com/archive/2022/10\n",
            "https://towardsdatascience.com/archive/2022/11\n",
            "https://towardsdatascience.com/archive/2022/12\n",
            "https://towardsdatascience.com/archive/2023/01\n",
            "https://towardsdatascience.com/archive/2023/02\n",
            "https://towardsdatascience.com/archive/2023/03\n",
            "https://towardsdatascience.com/archive/2023/04\n",
            "https://towardsdatascience.com/archive/2023/05\n",
            "https://towardsdatascience.com/archive/2023/06\n",
            "https://towardsdatascience.com/archive/2023/07\n",
            "https://towardsdatascience.com/archive/2023/08\n",
            "https://towardsdatascience.com/archive/2023/09\n",
            "https://towardsdatascience.com/archive/2023/10\n",
            "https://towardsdatascience.com/archive/2023/11\n",
            "https://towardsdatascience.com/archive/2023/12\n",
            "https://towardsdatascience.com/archive/2024/01\n",
            "https://towardsdatascience.com/archive/2024/02\n",
            "https://towardsdatascience.com/archive/2024/03\n",
            "https://towardsdatascience.com/archive/2024/04\n",
            "https://towardsdatascience.com/archive/2024/05\n"
          ]
        }
      ]
    },
    {
      "cell_type": "markdown",
      "metadata": {
        "id": "nm85TD-Cxfgv"
      },
      "source": [
        "## Prueba pequeña de una URL"
      ]
    },
    {
      "cell_type": "code",
      "metadata": {
        "id": "6p-aWPXXpzvi"
      },
      "source": [
        "headers = {'User-Agent': 'Mozilla/5.0'}\n",
        "link = 'https://towardsdatascience.com/archive/2023/02'\n",
        "soup_ = BeautifulSoup(requests.get(link, headers=headers).text, 'html.parser')\n",
        "articles = soup_.find_all('div', class_= 'streamItem streamItem--postPreview js-streamItem')\n",
        "\n",
        "article = articles[0] #Coge un solo artículo\n",
        "if article.h3:\n",
        "    title = article.h3.getText()\n",
        "elif article.h2:\n",
        "    title = article.h2.getText()\n",
        "else:\n",
        "    title = ''\n",
        "if article.h4:\n",
        "    subtitle = article.h4.getText()\n",
        "else:\n",
        "    subtitle = ''\n"
      ],
      "execution_count": 23,
      "outputs": []
    },
    {
      "cell_type": "markdown",
      "metadata": {
        "id": "eRDrjdbPxkgh"
      },
      "source": [
        "## Estracción de comentarios y Likes"
      ]
    },
    {
      "cell_type": "code",
      "metadata": {
        "colab": {
          "base_uri": "https://localhost:8080/"
        },
        "id": "0DUjXmWnkuAk",
        "outputId": "4114b862-25ad-40af-a6ed-3897962d909f"
      },
      "source": [
        "# Si el artículo tiene respuestas de los lectores,\n",
        "# viene en un listado en este caso, así que lo sacaremos con el número que tiene la respuesta\n",
        "# 1, respuesta 2, respuesta...\n",
        "\n",
        "s_clap = article.find('button', class_='button button--chromeless u-baseColor--buttonNormal js-multirecommendCountButton u-disablePointerEvents')\n",
        "\n",
        "if s_clap:\n",
        "    s_clap = s_clap.getText()\n",
        "    print(s_clap)\n",
        "    if 'K' in s_clap:\n",
        "        clap = int(float(s_clap.replace('K', ''))*1000)\n",
        "        print(f\"esto es el s_clap {clap}\")\n",
        "    else:\n",
        "        clap = int(s_clap)\n",
        "else:\n",
        "    clap = 0\n",
        "\n",
        "s_response = article.find('a', class_='button button--chromeless u-baseColor--buttonNormal')\n",
        "if s_response:\n",
        "    s_response = s_response.getText()\n",
        "    response = int(re.search(r'\\d+', s_response).group())\n",
        "else:\n",
        "    response = 0"
      ],
      "execution_count": 24,
      "outputs": [
        {
          "output_type": "stream",
          "name": "stdout",
          "text": [
            "1.4K\n",
            "esto es el s_clap 1400\n"
          ]
        }
      ]
    },
    {
      "cell_type": "markdown",
      "metadata": {
        "id": "r7oDerK9xoGl"
      },
      "source": [
        "## Extracción en bulk de los contenidos"
      ]
    },
    {
      "cell_type": "code",
      "metadata": {
        "id": "6fILP0hip1S2"
      },
      "source": [
        "def get_data_all_articles(final_links):\n",
        "    titles, sub_titles, claps, responses = [], [], [], []\n",
        "\n",
        "    for link, z in zip(final_links, tnrange(len(final_links))):\n",
        "        headers = {'User-Agent': 'Mozilla/5.0'}\n",
        "        soup_ = BeautifulSoup(requests.get(link, headers=headers).text, 'html.parser')\n",
        "        articles = soup_.find_all('div', class_='streamItem streamItem--postPreview js-streamItem')\n",
        "        title, subtitle, clap, response = [], [], [], []\n",
        "        for article in articles:\n",
        "            if article.h3:\n",
        "                title.append(article.h3.getText())\n",
        "            elif article.h2:\n",
        "                title.append(article.h2.getText())\n",
        "            else:\n",
        "                title.append('')\n",
        "            if article.h4:\n",
        "                subtitle.append(article.h4.getText())\n",
        "            else:\n",
        "                subtitle.append('')\n",
        "            s_clap = article.find('button', class_= 'button button--chromeless u-baseColor--buttonNormal js-multirecommendCountButton u-disablePointerEvents')\n",
        "            if s_clap:\n",
        "                s_clap = s_clap.getText()\n",
        "                if 'K' in s_clap:\n",
        "                    clap.append(int(float(s_clap.replace('K', '')))*1000)\n",
        "                else:\n",
        "                    clap.append(int(s_clap))\n",
        "            else:\n",
        "                clap.append(0)\n",
        "            s_response =article.find('a', class_='button button--chromeless u-baseColor--buttonNormal')\n",
        "            if s_response:\n",
        "                s_response = s_response.getText()\n",
        "                response.append(int(re.search(r'\\d+', s_response).group()))\n",
        "            else:\n",
        "                response.append(0)\n",
        "        titles.append(title)\n",
        "        sub_titles.append(subtitle)\n",
        "        claps.append(clap)\n",
        "        responses.append(response)\n",
        "    titles = [item for sublist in titles for item in sublist]\n",
        "    sub_titles = [item for sublist in sub_titles for item in sublist]\n",
        "    claps = [item for sublist in claps for item in sublist]\n",
        "    responses = [item for sublist in responses for item in sublist]\n",
        "    frame = pd.DataFrame([titles, sub_titles, claps, responses]).transpose()\n",
        "    frame.columns = ['Title','Subtitle','claps','Responses']\n",
        "    return frame\n"
      ],
      "execution_count": 28,
      "outputs": []
    },
    {
      "cell_type": "code",
      "metadata": {
        "colab": {
          "base_uri": "https://localhost:8080/",
          "height": 518,
          "referenced_widgets": [
            "decbc87632fa4809b60ca15fdb186964",
            "badd2a2d53964dc1bff0906f8e02e578",
            "c86569d7f40f44d583573b31ff66bce3",
            "d89212123ab14172a0f051831ad07efb",
            "6f99ac1e45684182af73ff9501a9922e",
            "f2d3e4b9a6f64e76be39f86dfc5681f5",
            "860fd24ca6444bc98f63031afd27bacf",
            "b72723c5010d4909921e36f96b5e0155",
            "c86a98a85cf44bf797e0c6152e86ac0c",
            "9d0c488805c448c68925960ed80dcfe6",
            "ebab4e579b58487ba7e4fadfc0310dcd"
          ]
        },
        "id": "yWDl7Jhsp8Ou",
        "outputId": "7bbf9974-f45c-4766-e0d3-5dae5fa35dfd"
      },
      "source": [
        "data_set = get_data_all_articles(towards_ai_links)\n",
        "print(data_set)"
      ],
      "execution_count": 29,
      "outputs": [
        {
          "output_type": "display_data",
          "data": {
            "text/plain": [
              "  0%|          | 0/114 [00:00<?, ?it/s]"
            ],
            "application/vnd.jupyter.widget-view+json": {
              "version_major": 2,
              "version_minor": 0,
              "model_id": "decbc87632fa4809b60ca15fdb186964"
            }
          },
          "metadata": {}
        },
        {
          "output_type": "stream",
          "name": "stdout",
          "text": [
            "                                                 Title  \\\n",
            "0             Avoiding an Epic Data Visualization Fail   \n",
            "1           What makes a good data scientist-engineer?   \n",
            "2    Lessons Learned From The Higgs Boson Kaggle Ch...   \n",
            "3                           How Do You Flowchart Code?   \n",
            "4    Data Engineer vs Data Scientist vs Business An...   \n",
            "..                                                 ...   \n",
            "990                               The Math Behind LSTM   \n",
            "991               My First Billion (of Rows) in DuckDB   \n",
            "992  Four Simple Steps to Build a Custom Self-Hoste...   \n",
            "993  Breaking down State-of-the-Art PPO Implementat...   \n",
            "994            Tool Use, Agents, and the Voyager Paper   \n",
            "\n",
            "                                              Subtitle claps Responses  \n",
            "0                    It’s simple — answer the question   181         1  \n",
            "1    The qualities you need to develop to make an i...   165         0  \n",
            "2                                                          4         0  \n",
            "3       I’m a visual person — I always need a picture.   119         1  \n",
            "4                                                        269         0  \n",
            "..                                                 ...   ...       ...  \n",
            "990  Dive into LSTMs, understand their mathematics,...   183         1  \n",
            "991  First Impressions of DuckDB handling 450Gb in ...    13         0  \n",
            "992                   Learn how to build and deploy a…    22         0  \n",
            "993      All the tricks and details you wish you knew…    55         1  \n",
            "994  A detailed exploration of the Voyager Paper an...    41         0  \n",
            "\n",
            "[995 rows x 4 columns]\n"
          ]
        }
      ]
    },
    {
      "cell_type": "markdown",
      "metadata": {
        "id": "H-QSYxk0xuzN"
      },
      "source": [
        "## Esportador de contenido"
      ]
    },
    {
      "cell_type": "code",
      "metadata": {
        "id": "BjReBYiDvjfm"
      },
      "source": [
        "data_set.to_csv('tds.csv')"
      ],
      "execution_count": 30,
      "outputs": []
    }
  ]
}